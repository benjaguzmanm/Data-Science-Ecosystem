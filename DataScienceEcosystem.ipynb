{
  "metadata": {
    "kernelspec": {
      "name": "python",
      "display_name": "Python (Pyodide)",
      "language": "python"
    },
    "language_info": {
      "codemirror_mode": {
        "name": "python",
        "version": 3
      },
      "file_extension": ".py",
      "mimetype": "text/x-python",
      "name": "python",
      "nbconvert_exporter": "python",
      "pygments_lexer": "ipython3",
      "version": "3.8"
    }
  },
  "nbformat_minor": 5,
  "nbformat": 4,
  "cells": [
    {
      "id": "16a62e55-c431-4a5f-8d13-71e015a307cf",
      "cell_type": "markdown",
      "source": "# Data Science Tools and Ecosystem\n",
      "metadata": {}
    },
    {
      "id": "f7b07eeb-5154-470e-b82b-0ea9cfd8f17b",
      "cell_type": "markdown",
      "source": "In this notebook, Data Science Tools and Ecosystem are summarized.",
      "metadata": {}
    },
    {
      "id": "2b35773e-16a4-4265-9e65-219e550ded99",
      "cell_type": "markdown",
      "source": "**Objectives:**\n- List popular languages for Data Science\n- Identify commonly used libraries in Data Science\n- Provide an overview of Data Science tools\n- Demonstrate basic arithmetic operations in Python\n",
      "metadata": {}
    },
    {
      "id": "d7854a66-dbd1-4e2d-a347-762cf2f79f5b",
      "cell_type": "markdown",
      "source": "Some of the popular languages that Data Scientists use are:\n\n1. Python\n2. R\n3. SQL\n4. Julia\n5. Java",
      "metadata": {}
    },
    {
      "id": "28a83d7c-a24e-4f4a-b12c-59880c4d9e11",
      "cell_type": "markdown",
      "source": "Some of the commonly used libraries used by Data Scientists include:\n\n1. NumPy\n2. Pandas\n3. Matplotlib\n4. Scikit-learn\n5. TensorFlow",
      "metadata": {}
    },
    {
      "id": "c9034633-4ec2-4644-a7c4-0b2b9697e2e7",
      "cell_type": "markdown",
      "source": "| Data Science Tools        |\n|---------------------------|\n| Jupyter Notebook          |\n| RStudio                   |\n| Apache Zeppelin           |\n",
      "metadata": {}
    },
    {
      "id": "1be773ef-41f5-440f-9b3b-d6bffff480c5",
      "cell_type": "markdown",
      "source": "### Below are a few examples of evaluating arithmetic expressions in Python.\n",
      "metadata": {}
    },
    {
      "id": "55fd8158-1faa-4682-a703-1cc80633d1a3",
      "cell_type": "code",
      "source": "# This a simple arithmetic expression to multiply then add integers\n(4 * 4) + 5\n",
      "metadata": {
        "trusted": true
      },
      "outputs": [
        {
          "execution_count": 2,
          "output_type": "execute_result",
          "data": {
            "text/plain": "21"
          },
          "metadata": {}
        }
      ],
      "execution_count": 2
    },
    {
      "id": "b22accd4-bcf8-42e9-9c3a-e256e9d5d6d9",
      "cell_type": "code",
      "source": "# This will convert 200 minutes to hours by dividing by 60\n200 / 60\n",
      "metadata": {
        "trusted": true
      },
      "outputs": [
        {
          "execution_count": 3,
          "output_type": "execute_result",
          "data": {
            "text/plain": "3.3333333333333335"
          },
          "metadata": {}
        }
      ],
      "execution_count": 3
    },
    {
      "id": "71eb474f-f3d0-424c-827c-0498f450b144",
      "cell_type": "markdown",
      "source": "## Author\nBenjamin Guzman Muñoz\n",
      "metadata": {}
    },
    {
      "id": "cef73e6e-af39-4724-bda9-74b359a100d4",
      "cell_type": "code",
      "source": "",
      "metadata": {
        "trusted": true
      },
      "outputs": [],
      "execution_count": null
    }
  ]
}